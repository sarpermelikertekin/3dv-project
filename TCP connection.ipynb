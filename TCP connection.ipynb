{
 "cells": [
  {
   "cell_type": "code",
   "execution_count": 16,
   "metadata": {},
   "outputs": [
    {
     "name": "stdout",
     "output_type": "stream",
     "text": [
      "Waiting for a connection on localhost:5000\n",
      "Connected to ('127.0.0.1', 50635)\n",
      "Expected length: 17709\n",
      "Length sent. Length: 17709\n",
      "Expected length: 1278606\n",
      "Length sent. Length: 1278606\n",
      "Expected length: 1265119\n",
      "Length sent. Length: 1265119\n",
      "Expected length: 1275031\n",
      "Length sent. Length: 1275031\n",
      "Expected length: 1280372\n",
      "Length sent. Length: 1280372\n",
      "Expected length: 1293017\n",
      "Length sent. Length: 1293017\n",
      "Expected length: 1297084\n",
      "Length sent. Length: 1297084\n",
      "Expected length: 1324254\n",
      "Length sent. Length: 1324254\n",
      "Expected length: 1392064\n",
      "Length sent. Length: 1392064\n",
      "Expected length: 1386443\n",
      "Length sent. Length: 1386443\n",
      "Expected length: 1347110\n",
      "Error decoding image: OpenCV(4.7.0) D:\\a\\opencv-python\\opencv-python\\opencv\\modules\\highgui\\src\\window.cpp:971: error: (-215:Assertion failed) size.width>0 && size.height>0 in function 'cv::imshow'\n",
      "\n",
      "Length sent. Length: 130986\n"
     ]
    },
    {
     "ename": "ConnectionAbortedError",
     "evalue": "[WinError 10053] An established connection was aborted by the software in your host machine",
     "output_type": "error",
     "traceback": [
      "\u001b[1;31m---------------------------------------------------------------------------\u001b[0m",
      "\u001b[1;31mConnectionAbortedError\u001b[0m                    Traceback (most recent call last)",
      "\u001b[1;32m<ipython-input-16-7cf1e9a1add3>\u001b[0m in \u001b[0;36m<module>\u001b[1;34m\u001b[0m\n\u001b[0;32m     22\u001b[0m     \u001b[1;32mwhile\u001b[0m \u001b[1;32mTrue\u001b[0m\u001b[1;33m:\u001b[0m\u001b[1;33m\u001b[0m\u001b[1;33m\u001b[0m\u001b[0m\n\u001b[0;32m     23\u001b[0m         \u001b[1;31m# Receive the length-prefixed image data\u001b[0m\u001b[1;33m\u001b[0m\u001b[1;33m\u001b[0m\u001b[1;33m\u001b[0m\u001b[0m\n\u001b[1;32m---> 24\u001b[1;33m         \u001b[0mlength_data\u001b[0m \u001b[1;33m=\u001b[0m \u001b[0mconn\u001b[0m\u001b[1;33m.\u001b[0m\u001b[0mrecv\u001b[0m\u001b[1;33m(\u001b[0m\u001b[1;36m4\u001b[0m\u001b[1;33m)\u001b[0m\u001b[1;33m\u001b[0m\u001b[1;33m\u001b[0m\u001b[0m\n\u001b[0m\u001b[0;32m     25\u001b[0m         \u001b[1;32mif\u001b[0m \u001b[1;32mnot\u001b[0m \u001b[0mlength_data\u001b[0m\u001b[1;33m:\u001b[0m\u001b[1;33m\u001b[0m\u001b[1;33m\u001b[0m\u001b[0m\n\u001b[0;32m     26\u001b[0m             \u001b[0mprint\u001b[0m\u001b[1;33m(\u001b[0m\u001b[1;34m\"Connection closed by client\"\u001b[0m\u001b[1;33m)\u001b[0m\u001b[1;33m\u001b[0m\u001b[1;33m\u001b[0m\u001b[0m\n",
      "\u001b[1;31mConnectionAbortedError\u001b[0m: [WinError 10053] An established connection was aborted by the software in your host machine"
     ]
    }
   ],
   "source": [
    "import cv2\n",
    "import numpy as np\n",
    "import socket\n",
    "import struct\n",
    "import time\n",
    "\n",
    "# Define the host and port for the server\n",
    "HOST = 'localhost'\n",
    "PORT = 5000\n",
    "\n",
    "# Create a socket and bind it to the host and port\n",
    "with socket.socket(socket.AF_INET, socket.SOCK_STREAM) as s:\n",
    "    s.bind((HOST, PORT))\n",
    "    s.listen(1)\n",
    "    print(f\"Waiting for a connection on {HOST}:{PORT}\")\n",
    "\n",
    "    # Accept a connection from a client\n",
    "    conn, addr = s.accept()\n",
    "    print(f\"Connected to {addr}\")\n",
    "\n",
    "    # Loop to receive images from the client\n",
    "    while True:\n",
    "        # Receive the length-prefixed image data\n",
    "        length_data = conn.recv(4)\n",
    "        if not length_data:\n",
    "            print(\"Connection closed by client\")\n",
    "            break\n",
    "        length = struct.unpack(\"I\", length_data)[0]\n",
    "        print(f\"Expected length: {length}\")\n",
    "        data = conn.recv(length)\n",
    "        if not data:\n",
    "            break\n",
    "\n",
    "        # Decode the image data and display the image\n",
    "        nparr = np.frombuffer(data, np.uint8)\n",
    "        try:\n",
    "            img = cv2.imdecode(nparr, cv2.IMREAD_COLOR)\n",
    "            cv2.imshow('Received Image', img)\n",
    "            cv2.waitKey(1)\n",
    "        except Exception as e:\n",
    "            print(\"Error decoding image:\", e)\n",
    "            \n",
    "#################### Processing can be done Here ####################\n",
    "\n",
    "############ Dummy String Sent Send the Coordinates Here ############\n",
    "\n",
    "#################### Processing can be done Here ####################\n",
    "                \n",
    "        # Send the length of the received image data back to the client\n",
    "        conn.send(str(len(nparr)).encode())\n",
    "\n",
    "        print(\"Length sent. Length:\", len(nparr))\n",
    "\n",
    "        # Wait for 1 second before processing the next image\n",
    "        time.sleep(1)\n",
    "        \n",
    "#################### Processing can be done Here ####################\n",
    "\n",
    "############ Dummy String Sent Send the Coordinates Here ############\n",
    "\n",
    "#################### Processing can be done Here ####################\n",
    "\n",
    "    # Release resources and close the connection\n",
    "    cv2.destroyAllWindows()\n",
    "    conn.close()\n",
    "    print(\"Connection closed\")"
   ]
  },
  {
   "cell_type": "code",
   "execution_count": null,
   "metadata": {},
   "outputs": [],
   "source": []
  },
  {
   "cell_type": "code",
   "execution_count": null,
   "metadata": {},
   "outputs": [],
   "source": []
  },
  {
   "cell_type": "code",
   "execution_count": null,
   "metadata": {},
   "outputs": [],
   "source": []
  },
  {
   "cell_type": "code",
   "execution_count": null,
   "metadata": {},
   "outputs": [],
   "source": []
  },
  {
   "cell_type": "code",
   "execution_count": null,
   "metadata": {},
   "outputs": [],
   "source": []
  },
  {
   "cell_type": "code",
   "execution_count": null,
   "metadata": {},
   "outputs": [],
   "source": []
  },
  {
   "cell_type": "code",
   "execution_count": 26,
   "metadata": {},
   "outputs": [
    {
     "name": "stdout",
     "output_type": "stream",
     "text": [
      "Waiting for a connection on localhost:5000\n",
      "Connected to ('127.0.0.1', 49803)\n",
      "Received message: hello world\n",
      "Connection closed by client\n",
      "Connection closed\n"
     ]
    }
   ],
   "source": [
    "import socket\n",
    "\n",
    "# Define the host and port for the server\n",
    "HOST = 'localhost'\n",
    "PORT = 5000\n",
    "\n",
    "# Create a socket and bind it to the host and port\n",
    "with socket.socket(socket.AF_INET, socket.SOCK_STREAM) as s:\n",
    "    s.bind((HOST, PORT))\n",
    "    s.listen(1)\n",
    "    print(f\"Waiting for a connection on {HOST}:{PORT}\")\n",
    "\n",
    "    # Accept a connection from a client\n",
    "    conn, addr = s.accept()\n",
    "    print(f\"Connected to {addr}\")\n",
    "\n",
    "    # Loop to receive messages from the client\n",
    "    while True:\n",
    "        # Receive the message data\n",
    "        data = conn.recv(1024)\n",
    "\n",
    "        # Check if the data is empty, which indicates that the client has closed the connection\n",
    "        if not data:\n",
    "            print(\"Connection closed by client\")\n",
    "            break\n",
    "\n",
    "        # Decode the message data and print the message\n",
    "        message = data.decode()\n",
    "        print(f\"Received message: {message}\")\n",
    "\n",
    "    # Close the connection\n",
    "    conn.close()\n",
    "    print(\"Connection closed\")"
   ]
  }
 ],
 "metadata": {
  "kernelspec": {
   "display_name": "Python 3",
   "language": "python",
   "name": "python3"
  },
  "language_info": {
   "codemirror_mode": {
    "name": "ipython",
    "version": 3
   },
   "file_extension": ".py",
   "mimetype": "text/x-python",
   "name": "python",
   "nbconvert_exporter": "python",
   "pygments_lexer": "ipython3",
   "version": "3.8.5"
  }
 },
 "nbformat": 4,
 "nbformat_minor": 4
}
