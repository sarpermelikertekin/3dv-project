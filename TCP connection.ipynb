{
 "cells": [
  {
   "cell_type": "code",
   "execution_count": null,
   "metadata": {},
   "outputs": [
    {
     "name": "stdout",
     "output_type": "stream",
     "text": [
      "Waiting for a connection on localhost:9999\n"
     ]
    }
   ],
   "source": [
    "import cv2\n",
    "import numpy as np\n",
    "import socket\n",
    "import struct\n",
    "\n",
    "# Define the host and port for the server\n",
    "HOST = '127.0.0.1'\n",
    "PORT = 9999\n",
    "\n",
    "# Create a socket and bind it to the host and port\n",
    "with socket.socket(socket.AF_INET, socket.SOCK_STREAM) as s:\n",
    "    s.bind((HOST, PORT))\n",
    "    s.listen(1)\n",
    "    print(f\"Waiting for a connection on {HOST}:{PORT}\")\n",
    "\n",
    "    # Accept a connection from a client\n",
    "    conn, addr = s.accept()\n",
    "    print(f\"Connected to {addr}\")\n",
    "\n",
    "    # Loop to receive images from the client\n",
    "    while True:\n",
    "        # Receive the size of the image data\n",
    "        size_data = conn.recv(struct.calcsize(\"L\"))\n",
    "\n",
    "        # Check if the size data is empty, which indicates that the client has closed the connection\n",
    "        if not size_data:\n",
    "            print(\"Connection closed by client\")\n",
    "            break\n",
    "\n",
    "        # Unpack the size data and receive the image data\n",
    "        size = struct.unpack(\"L\", size_data)[0]\n",
    "        data = b\"\"\n",
    "        while len(data) < size:\n",
    "            packet = conn.recv(size - len(data))\n",
    "            if not packet:\n",
    "                break\n",
    "            data += packet\n",
    "\n",
    "        # Check if the image data is empty, which indicates that the client has closed the connection\n",
    "        if not data:\n",
    "            print(\"Connection closed by client\")\n",
    "            break\n",
    "\n",
    "        # Decode the image data and display the image\n",
    "        nparr = np.frombuffer(data, np.uint8)\n",
    "        try:\n",
    "            img = cv2.imdecode(nparr, cv2.IMREAD_COLOR)\n",
    "            cv2.imshow('Received Image', img)\n",
    "            cv2.waitKey(1)\n",
    "        except Exception as e:\n",
    "            print(\"Error decoding image:\", e)\n",
    "\n",
    "    # Release resources and close the connection\n",
    "    cv2.destroyAllWindows()\n",
    "    conn.close()\n",
    "    print(\"Connection closed\")"
   ]
  },
  {
   "cell_type": "code",
   "execution_count": null,
   "metadata": {},
   "outputs": [],
   "source": []
  },
  {
   "cell_type": "code",
   "execution_count": null,
   "metadata": {},
   "outputs": [],
   "source": []
  },
  {
   "cell_type": "code",
   "execution_count": null,
   "metadata": {},
   "outputs": [],
   "source": []
  }
 ],
 "metadata": {
  "kernelspec": {
   "display_name": "Python 3",
   "language": "python",
   "name": "python3"
  },
  "language_info": {
   "codemirror_mode": {
    "name": "ipython",
    "version": 3
   },
   "file_extension": ".py",
   "mimetype": "text/x-python",
   "name": "python",
   "nbconvert_exporter": "python",
   "pygments_lexer": "ipython3",
   "version": "3.8.5"
  }
 },
 "nbformat": 4,
 "nbformat_minor": 4
}
