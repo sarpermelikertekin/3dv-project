{
 "cells": [
  {
   "cell_type": "code",
   "execution_count": null,
   "metadata": {},
   "outputs": [
    {
     "name": "stdout",
     "output_type": "stream",
     "text": [
      "Waiting for a connection on localhost:5000\n",
      "Connected to ('127.0.0.1', 57102)\n",
      "Expected length: 3747293\n",
      "Length sent. Length: 3747293\n",
      "Expected length: 1864212\n",
      "Length sent. Length: 1864212\n",
      "Expected length: 1892154\n",
      "Length sent. Length: 1892154\n",
      "Expected length: 387486\n",
      "Length sent. Length: 387486\n",
      "Expected length: 4564153\n",
      "Length sent. Length: 4564153\n",
      "Expected length: 3281549\n",
      "Length sent. Length: 3281549\n",
      "Expected length: 1382786\n",
      "Length sent. Length: 1382786\n"
     ]
    }
   ],
   "source": [
    "import cv2\n",
    "import numpy as np\n",
    "import socket\n",
    "import struct\n",
    "import time\n",
    "\n",
    "# Define the host and port for the server\n",
    "#HOST = '192.168.64.73'\n",
    "HOST = 'localhost'\n",
    "PORT = 5000\n",
    "\n",
    "# Create a socket and bind it to the host and port\n",
    "with socket.socket(socket.AF_INET, socket.SOCK_STREAM) as s:\n",
    "    s.bind((HOST, PORT))\n",
    "    s.listen(1)\n",
    "    print(f\"Waiting for a connection on {HOST}:{PORT}\")\n",
    "\n",
    "    # Accept a connection from a client\n",
    "    conn, addr = s.accept()\n",
    "    print(f\"Connected to {addr}\")\n",
    "\n",
    "    # Loop to receive images from the client\n",
    "    while True:\n",
    "        # Receive the length-prefixed image data\n",
    "        length_data = conn.recv(4)\n",
    "        if not length_data:\n",
    "            print(\"Connection closed by client\")\n",
    "            break\n",
    "        length = struct.unpack(\"I\", length_data)[0]\n",
    "        print(f\"Expected length: {length}\")\n",
    "        data = conn.recv(length)\n",
    "        if not data:\n",
    "            break\n",
    "\n",
    "        # Decode the image data and display the image\n",
    "        nparr = np.frombuffer(data, np.uint8)\n",
    "        try:\n",
    "            img = cv2.imdecode(nparr, cv2.IMREAD_COLOR)\n",
    "            cv2.imshow('Received Image', img)\n",
    "            cv2.waitKey(1)\n",
    "        except Exception as e:\n",
    "            print(\"Error decoding image:\", e)\n",
    "            \n",
    "#################### Processing can be done Here ####################\n",
    "\n",
    "############ Dummy String Sent Send the Coordinates Here ############\n",
    "\n",
    "#################### Processing can be done Here ####################\n",
    "                \n",
    "        # Send the length of the received image data back to the client\n",
    "        conn.send(str(len(nparr)).encode())\n",
    "\n",
    "        print(\"Length sent. Length:\", len(nparr))\n",
    "\n",
    "        # Wait for 1 second before processing the next image\n",
    "        time.sleep(1)\n",
    "        \n",
    "#################### Processing can be done Here ####################\n",
    "\n",
    "############ Dummy String Sent Send the Coordinates Here ############\n",
    "\n",
    "#################### Processing can be done Here ####################\n",
    "\n",
    "    # Release resources and close the connection\n",
    "    cv2.destroyAllWindows()\n",
    "    conn.close()\n",
    "    print(\"Connection closed\")"
   ]
  },
  {
   "cell_type": "code",
   "execution_count": null,
   "metadata": {},
   "outputs": [],
   "source": []
  },
  {
   "cell_type": "code",
   "execution_count": null,
   "metadata": {},
   "outputs": [],
   "source": []
  },
  {
   "cell_type": "code",
   "execution_count": null,
   "metadata": {},
   "outputs": [],
   "source": []
  },
  {
   "cell_type": "code",
   "execution_count": null,
   "metadata": {},
   "outputs": [],
   "source": []
  },
  {
   "cell_type": "code",
   "execution_count": null,
   "metadata": {},
   "outputs": [],
   "source": []
  },
  {
   "cell_type": "code",
   "execution_count": null,
   "metadata": {},
   "outputs": [],
   "source": []
  },
  {
   "cell_type": "code",
   "execution_count": 26,
   "metadata": {},
   "outputs": [
    {
     "name": "stdout",
     "output_type": "stream",
     "text": [
      "Waiting for a connection on localhost:5000\n",
      "Connected to ('127.0.0.1', 49803)\n",
      "Received message: hello world\n",
      "Connection closed by client\n",
      "Connection closed\n"
     ]
    }
   ],
   "source": [
    "import socket\n",
    "\n",
    "# Define the host and port for the server\n",
    "HOST = 'localhost'\n",
    "PORT = 5000\n",
    "\n",
    "# Create a socket and bind it to the host and port\n",
    "with socket.socket(socket.AF_INET, socket.SOCK_STREAM) as s:\n",
    "    s.bind((HOST, PORT))\n",
    "    s.listen(1)\n",
    "    print(f\"Waiting for a connection on {HOST}:{PORT}\")\n",
    "\n",
    "    # Accept a connection from a client\n",
    "    conn, addr = s.accept()\n",
    "    print(f\"Connected to {addr}\")\n",
    "\n",
    "    # Loop to receive messages from the client\n",
    "    while True:\n",
    "        # Receive the message data\n",
    "        data = conn.recv(1024)\n",
    "\n",
    "        # Check if the data is empty, which indicates that the client has closed the connection\n",
    "        if not data:\n",
    "            print(\"Connection closed by client\")\n",
    "            break\n",
    "\n",
    "        # Decode the message data and print the message\n",
    "        message = data.decode()\n",
    "        print(f\"Received message: {message}\")\n",
    "\n",
    "    # Close the connection\n",
    "    conn.close()\n",
    "    print(\"Connection closed\")"
   ]
  }
 ],
 "metadata": {
  "kernelspec": {
   "display_name": "Python 3",
   "language": "python",
   "name": "python3"
  },
  "language_info": {
   "codemirror_mode": {
    "name": "ipython",
    "version": 3
   },
   "file_extension": ".py",
   "mimetype": "text/x-python",
   "name": "python",
   "nbconvert_exporter": "python",
   "pygments_lexer": "ipython3",
   "version": "3.8.5"
  }
 },
 "nbformat": 4,
 "nbformat_minor": 4
}
