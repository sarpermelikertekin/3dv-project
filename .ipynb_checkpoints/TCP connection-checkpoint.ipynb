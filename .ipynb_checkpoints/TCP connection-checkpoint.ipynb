{
 "cells": [
  {
   "cell_type": "code",
   "execution_count": 1,
   "metadata": {},
   "outputs": [
    {
     "ename": "OSError",
     "evalue": "[WinError 10049] The requested address is not valid in its context",
     "output_type": "error",
     "traceback": [
      "\u001b[1;31m---------------------------------------------------------------------------\u001b[0m",
      "\u001b[1;31mOSError\u001b[0m                                   Traceback (most recent call last)",
      "\u001b[1;32m<ipython-input-1-c25e08da86d1>\u001b[0m in \u001b[0;36m<module>\u001b[1;34m\u001b[0m\n\u001b[0;32m     12\u001b[0m \u001b[1;31m# Create a socket and bind it to the host and port\u001b[0m\u001b[1;33m\u001b[0m\u001b[1;33m\u001b[0m\u001b[1;33m\u001b[0m\u001b[0m\n\u001b[0;32m     13\u001b[0m \u001b[1;32mwith\u001b[0m \u001b[0msocket\u001b[0m\u001b[1;33m.\u001b[0m\u001b[0msocket\u001b[0m\u001b[1;33m(\u001b[0m\u001b[0msocket\u001b[0m\u001b[1;33m.\u001b[0m\u001b[0mAF_INET\u001b[0m\u001b[1;33m,\u001b[0m \u001b[0msocket\u001b[0m\u001b[1;33m.\u001b[0m\u001b[0mSOCK_STREAM\u001b[0m\u001b[1;33m)\u001b[0m \u001b[1;32mas\u001b[0m \u001b[0ms\u001b[0m\u001b[1;33m:\u001b[0m\u001b[1;33m\u001b[0m\u001b[1;33m\u001b[0m\u001b[0m\n\u001b[1;32m---> 14\u001b[1;33m     \u001b[0ms\u001b[0m\u001b[1;33m.\u001b[0m\u001b[0mbind\u001b[0m\u001b[1;33m(\u001b[0m\u001b[1;33m(\u001b[0m\u001b[0mHOST\u001b[0m\u001b[1;33m,\u001b[0m \u001b[0mPORT\u001b[0m\u001b[1;33m)\u001b[0m\u001b[1;33m)\u001b[0m\u001b[1;33m\u001b[0m\u001b[1;33m\u001b[0m\u001b[0m\n\u001b[0m\u001b[0;32m     15\u001b[0m     \u001b[0ms\u001b[0m\u001b[1;33m.\u001b[0m\u001b[0mlisten\u001b[0m\u001b[1;33m(\u001b[0m\u001b[1;36m1\u001b[0m\u001b[1;33m)\u001b[0m\u001b[1;33m\u001b[0m\u001b[1;33m\u001b[0m\u001b[0m\n\u001b[0;32m     16\u001b[0m     \u001b[0mprint\u001b[0m\u001b[1;33m(\u001b[0m\u001b[1;34mf\"Waiting for a connection on {HOST}:{PORT}\"\u001b[0m\u001b[1;33m)\u001b[0m\u001b[1;33m\u001b[0m\u001b[1;33m\u001b[0m\u001b[0m\n",
      "\u001b[1;31mOSError\u001b[0m: [WinError 10049] The requested address is not valid in its context"
     ]
    }
   ],
   "source": [
    "import cv2\n",
    "import numpy as np\n",
    "import socket\n",
    "import struct\n",
    "import time\n",
    "\n",
    "# Define the host and port for the server\n",
    "#HOST = '192.168.64.73'\n",
    "HOST = 'localhost'\n",
    "PORT = 5000\n",
    "\n",
    "# Create a socket and bind it to the host and port\n",
    "with socket.socket(socket.AF_INET, socket.SOCK_STREAM) as s:\n",
    "    s.bind((HOST, PORT))\n",
    "    s.listen(1)\n",
    "    print(f\"Waiting for a connection on {HOST}:{PORT}\")\n",
    "\n",
    "    # Accept a connection from a client\n",
    "    conn, addr = s.accept()\n",
    "    print(f\"Connected to {addr}\")\n",
    "\n",
    "    # Loop to receive images from the client\n",
    "    while True:\n",
    "        # Receive the length-prefixed image data\n",
    "        length_data = conn.recv(4)\n",
    "        if not length_data:\n",
    "            print(\"Connection closed by client\")\n",
    "            break\n",
    "        length = struct.unpack(\"I\", length_data)[0]\n",
    "        print(f\"Expected length: {length}\")\n",
    "        data = conn.recv(length)\n",
    "        if not data:\n",
    "            break\n",
    "\n",
    "        # Decode the image data and display the image\n",
    "        nparr = np.frombuffer(data, np.uint8)\n",
    "        try:\n",
    "            img = cv2.imdecode(nparr, cv2.IMREAD_COLOR)\n",
    "            cv2.imshow('Received Image', img)\n",
    "            cv2.waitKey(1)\n",
    "        except Exception as e:\n",
    "            print(\"Error decoding image:\", e)\n",
    "            \n",
    "#################### Processing can be done Here ####################\n",
    "\n",
    "############ Dummy String Sent Send the Coordinates Here ############\n",
    "\n",
    "#################### Processing can be done Here ####################\n",
    "                \n",
    "        # Send the length of the received image data back to the client\n",
    "        conn.send(str(len(nparr)).encode())\n",
    "\n",
    "        print(\"Length sent. Length:\", len(nparr))\n",
    "\n",
    "        # Wait for 1 second before processing the next image\n",
    "        time.sleep(1)\n",
    "        \n",
    "#################### Processing can be done Here ####################\n",
    "\n",
    "############ Dummy String Sent Send the Coordinates Here ############\n",
    "\n",
    "#################### Processing can be done Here ####################\n",
    "\n",
    "    # Release resources and close the connection\n",
    "    cv2.destroyAllWindows()\n",
    "    conn.close()\n",
    "    print(\"Connection closed\")"
   ]
  },
  {
   "cell_type": "code",
   "execution_count": null,
   "metadata": {},
   "outputs": [],
   "source": []
  },
  {
   "cell_type": "code",
   "execution_count": null,
   "metadata": {},
   "outputs": [],
   "source": []
  },
  {
   "cell_type": "code",
   "execution_count": null,
   "metadata": {},
   "outputs": [],
   "source": []
  },
  {
   "cell_type": "code",
   "execution_count": null,
   "metadata": {},
   "outputs": [],
   "source": []
  },
  {
   "cell_type": "code",
   "execution_count": null,
   "metadata": {},
   "outputs": [],
   "source": []
  },
  {
   "cell_type": "code",
   "execution_count": null,
   "metadata": {},
   "outputs": [],
   "source": []
  },
  {
   "cell_type": "code",
   "execution_count": 26,
   "metadata": {},
   "outputs": [
    {
     "name": "stdout",
     "output_type": "stream",
     "text": [
      "Waiting for a connection on localhost:5000\n",
      "Connected to ('127.0.0.1', 49803)\n",
      "Received message: hello world\n",
      "Connection closed by client\n",
      "Connection closed\n"
     ]
    }
   ],
   "source": [
    "import socket\n",
    "\n",
    "# Define the host and port for the server\n",
    "HOST = 'localhost'\n",
    "PORT = 5000\n",
    "\n",
    "# Create a socket and bind it to the host and port\n",
    "with socket.socket(socket.AF_INET, socket.SOCK_STREAM) as s:\n",
    "    s.bind((HOST, PORT))\n",
    "    s.listen(1)\n",
    "    print(f\"Waiting for a connection on {HOST}:{PORT}\")\n",
    "\n",
    "    # Accept a connection from a client\n",
    "    conn, addr = s.accept()\n",
    "    print(f\"Connected to {addr}\")\n",
    "\n",
    "    # Loop to receive messages from the client\n",
    "    while True:\n",
    "        # Receive the message data\n",
    "        data = conn.recv(1024)\n",
    "\n",
    "        # Check if the data is empty, which indicates that the client has closed the connection\n",
    "        if not data:\n",
    "            print(\"Connection closed by client\")\n",
    "            break\n",
    "\n",
    "        # Decode the message data and print the message\n",
    "        message = data.decode()\n",
    "        print(f\"Received message: {message}\")\n",
    "\n",
    "    # Close the connection\n",
    "    conn.close()\n",
    "    print(\"Connection closed\")"
   ]
  }
 ],
 "metadata": {
  "kernelspec": {
   "display_name": "Python 3",
   "language": "python",
   "name": "python3"
  },
  "language_info": {
   "codemirror_mode": {
    "name": "ipython",
    "version": 3
   },
   "file_extension": ".py",
   "mimetype": "text/x-python",
   "name": "python",
   "nbconvert_exporter": "python",
   "pygments_lexer": "ipython3",
   "version": "3.8.5"
  }
 },
 "nbformat": 4,
 "nbformat_minor": 4
}
